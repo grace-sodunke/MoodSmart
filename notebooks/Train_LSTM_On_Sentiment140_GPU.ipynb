{
  "nbformat": 4,
  "nbformat_minor": 0,
  "metadata": {
    "kernelspec": {
      "display_name": "Python 3",
      "language": "python",
      "name": "python3"
    },
    "language_info": {
      "codemirror_mode": {
        "name": "ipython",
        "version": 3
      },
      "file_extension": ".py",
      "mimetype": "text/x-python",
      "name": "python",
      "nbconvert_exporter": "python",
      "pygments_lexer": "ipython3",
      "version": "3.7.7"
    },
    "colab": {
      "name": "Train_LSTM_On_Sentiment140_GPU.ipynb",
      "provenance": [],
      "collapsed_sections": [],
      "toc_visible": true
    },
    "accelerator": "GPU"
  },
  "cells": [
    {
      "cell_type": "markdown",
      "metadata": {
        "id": "p9Qt2yth5ymP",
        "colab_type": "text"
      },
      "source": [
        "# Train Keras LSTM classifier on Sentiment140 using Google Colab GPUs"
      ]
    },
    {
      "cell_type": "code",
      "metadata": {
        "id": "ti2RffCN5ymQ",
        "colab_type": "code",
        "outputId": "29d24eb2-7c85-49b3-c0a9-7bf16db8ab4c",
        "colab": {
          "base_uri": "https://localhost:8080/",
          "height": 34
        }
      },
      "source": [
        "from gensim.models import KeyedVectors\n",
        "import json\n",
        "import numpy as np\n",
        "import os\n",
        "import pandas as pd\n",
        "\n",
        "from keras.preprocessing.text import Tokenizer\n",
        "from keras.preprocessing.text import tokenizer_from_json\n",
        "from keras.preprocessing.sequence import pad_sequences\n",
        "from keras.layers import Dense, Input, LSTM, Embedding, Dropout\n",
        "from keras.layers import Bidirectional, GlobalMaxPool1D\n",
        "from keras.optimizers import Adam\n",
        "from keras.models import Model"
      ],
      "execution_count": 0,
      "outputs": [
        {
          "output_type": "stream",
          "text": [
            "Using TensorFlow backend.\n"
          ],
          "name": "stderr"
        }
      ]
    },
    {
      "cell_type": "markdown",
      "metadata": {
        "id": "kZUJH8975ymU",
        "colab_type": "text"
      },
      "source": [
        "## Set some useful variables"
      ]
    },
    {
      "cell_type": "code",
      "metadata": {
        "id": "8S37WLeK5ymU",
        "colab_type": "code",
        "colab": {}
      },
      "source": [
        "DATA_DIR = './'\n",
        "CLEAN_SENTIMENT140_FILE = 'sentiment140_clean.csv'\n",
        "EMBEDDING_FILE = 'GoogleNews-vectors-negative300.bin.gz'\n",
        "EMBEDDING_MATRIX_FILE = 'embeddings.bin.npy'\n",
        "TOKENIZER_FILE = 'tokenizer.json'\n",
        "\n",
        "MODEL_DIR = './'\n",
        "MODEL_FILE = 'modelGPU.h5'"
      ],
      "execution_count": 0,
      "outputs": []
    },
    {
      "cell_type": "code",
      "metadata": {
        "id": "f3mS71XJ5ymX",
        "colab_type": "code",
        "colab": {}
      },
      "source": [
        "MAX_NUM_WORDS = 10000\n",
        "EMBEDDING_DIM = 300\n",
        "MAX_SEQ_LENGTH = 140"
      ],
      "execution_count": 0,
      "outputs": []
    },
    {
      "cell_type": "markdown",
      "metadata": {
        "id": "d8qrFD5G5yma",
        "colab_type": "text"
      },
      "source": [
        "## Load clean data set"
      ]
    },
    {
      "cell_type": "code",
      "metadata": {
        "id": "tDHq3KIQ5yma",
        "colab_type": "code",
        "colab": {}
      },
      "source": [
        "df = pd.read_csv(os.path.join(DATA_DIR, CLEAN_SENTIMENT140_FILE))"
      ],
      "execution_count": 0,
      "outputs": []
    },
    {
      "cell_type": "markdown",
      "metadata": {
        "id": "KdBpeZcp5ymd",
        "colab_type": "text"
      },
      "source": [
        "Remove tweets for which the cleaned text is empty."
      ]
    },
    {
      "cell_type": "code",
      "metadata": {
        "id": "GCXd-klK5ymd",
        "colab_type": "code",
        "colab": {}
      },
      "source": [
        "df = df.loc[df['clean_text'].notnull()]"
      ],
      "execution_count": 0,
      "outputs": []
    },
    {
      "cell_type": "code",
      "metadata": {
        "id": "pbWvFROb5ymg",
        "colab_type": "code",
        "outputId": "116b3eed-3f74-4e80-d485-d2950f32d583",
        "colab": {
          "base_uri": "https://localhost:8080/",
          "height": 204
        }
      },
      "source": [
        "df.head()"
      ],
      "execution_count": 0,
      "outputs": [
        {
          "output_type": "execute_result",
          "data": {
            "text/html": [
              "<div>\n",
              "<style scoped>\n",
              "    .dataframe tbody tr th:only-of-type {\n",
              "        vertical-align: middle;\n",
              "    }\n",
              "\n",
              "    .dataframe tbody tr th {\n",
              "        vertical-align: top;\n",
              "    }\n",
              "\n",
              "    .dataframe thead th {\n",
              "        text-align: right;\n",
              "    }\n",
              "</style>\n",
              "<table border=\"1\" class=\"dataframe\">\n",
              "  <thead>\n",
              "    <tr style=\"text-align: right;\">\n",
              "      <th></th>\n",
              "      <th>target</th>\n",
              "      <th>clean_text</th>\n",
              "    </tr>\n",
              "  </thead>\n",
              "  <tbody>\n",
              "    <tr>\n",
              "      <th>0</th>\n",
              "      <td>1</td>\n",
              "      <td>hey hey what about u and jose umm</td>\n",
              "    </tr>\n",
              "    <tr>\n",
              "      <th>1</th>\n",
              "      <td>0</td>\n",
              "      <td>sorry</td>\n",
              "    </tr>\n",
              "    <tr>\n",
              "      <th>2</th>\n",
              "      <td>1</td>\n",
              "      <td>glad you had a good time i think we all apprec...</td>\n",
              "    </tr>\n",
              "    <tr>\n",
              "      <th>3</th>\n",
              "      <td>1</td>\n",
              "      <td>getting ready to leave for my class trip today...</td>\n",
              "    </tr>\n",
              "    <tr>\n",
              "      <th>4</th>\n",
              "      <td>0</td>\n",
              "      <td>im in serious need of ice cream</td>\n",
              "    </tr>\n",
              "  </tbody>\n",
              "</table>\n",
              "</div>"
            ],
            "text/plain": [
              "   target                                         clean_text\n",
              "0       1                  hey hey what about u and jose umm\n",
              "1       0                                              sorry\n",
              "2       1  glad you had a good time i think we all apprec...\n",
              "3       1  getting ready to leave for my class trip today...\n",
              "4       0                    im in serious need of ice cream"
            ]
          },
          "metadata": {
            "tags": []
          },
          "execution_count": 9
        }
      ]
    },
    {
      "cell_type": "markdown",
      "metadata": {
        "id": "scUMIENZ5ymk",
        "colab_type": "text"
      },
      "source": [
        "## Tokenize and pad the sequences"
      ]
    },
    {
      "cell_type": "markdown",
      "metadata": {
        "id": "OuoWHXaxAska",
        "colab_type": "text"
      },
      "source": [
        "Load Tokenizer object from JSON file."
      ]
    },
    {
      "cell_type": "code",
      "metadata": {
        "id": "Lc4vgl2bArzv",
        "colab_type": "code",
        "colab": {}
      },
      "source": [
        "with open(os.path.join(DATA_DIR, TOKENIZER_FILE), 'r') as file:\n",
        "  tokenizer = tokenizer_from_json(json.load(file))"
      ],
      "execution_count": 0,
      "outputs": []
    },
    {
      "cell_type": "markdown",
      "metadata": {
        "id": "2yBzqNPr5ymn",
        "colab_type": "text"
      },
      "source": [
        "Convert the cleaned tweets to sequences of numbers."
      ]
    },
    {
      "cell_type": "code",
      "metadata": {
        "id": "ZXh3NOQY5ymo",
        "colab_type": "code",
        "colab": {}
      },
      "source": [
        "tokenized_seqs = tokenizer.texts_to_sequences(df['clean_text'])"
      ],
      "execution_count": 0,
      "outputs": []
    },
    {
      "cell_type": "markdown",
      "metadata": {
        "id": "d-e67AaY5ymv",
        "colab_type": "text"
      },
      "source": [
        "How many sequences are using the last word?"
      ]
    },
    {
      "cell_type": "code",
      "metadata": {
        "id": "TYAdJkEl5ymx",
        "colab_type": "code",
        "outputId": "b85c081c-1df4-481f-dfd7-f4d3da352f99",
        "colab": {
          "base_uri": "https://localhost:8080/",
          "height": 34
        }
      },
      "source": [
        "len([s for s in tokenized_seqs if MAX_NUM_WORDS-1 in s])"
      ],
      "execution_count": 0,
      "outputs": [
        {
          "output_type": "execute_result",
          "data": {
            "text/plain": [
              "73"
            ]
          },
          "metadata": {
            "tags": []
          },
          "execution_count": 12
        }
      ]
    },
    {
      "cell_type": "markdown",
      "metadata": {
        "id": "qiRHLtFA5ym0",
        "colab_type": "text"
      },
      "source": [
        "Pad sequences."
      ]
    },
    {
      "cell_type": "code",
      "metadata": {
        "id": "FzOhgqQL5ym1",
        "colab_type": "code",
        "colab": {}
      },
      "source": [
        "padded_seqs = pad_sequences(tokenized_seqs, maxlen=MAX_SEQ_LENGTH)"
      ],
      "execution_count": 0,
      "outputs": []
    },
    {
      "cell_type": "code",
      "metadata": {
        "id": "xfKPPrwH5ym3",
        "colab_type": "code",
        "outputId": "32a7eb87-8d86-409c-98b6-52b5311fe218",
        "colab": {
          "base_uri": "https://localhost:8080/",
          "height": 34
        }
      },
      "source": [
        "padded_seqs.shape"
      ],
      "execution_count": 0,
      "outputs": [
        {
          "output_type": "execute_result",
          "data": {
            "text/plain": [
              "(1596009, 140)"
            ]
          },
          "metadata": {
            "tags": []
          },
          "execution_count": 14
        }
      ]
    },
    {
      "cell_type": "markdown",
      "metadata": {
        "id": "GUSwQX9a5ym6",
        "colab_type": "text"
      },
      "source": [
        "## Load embedding matrix"
      ]
    },
    {
      "cell_type": "code",
      "metadata": {
        "id": "fllSahLMEy2q",
        "colab_type": "code",
        "colab": {}
      },
      "source": [
        "embedding_matrix = np.load(os.path.join(DATA_DIR, EMBEDDING_MATRIX_FILE))"
      ],
      "execution_count": 0,
      "outputs": []
    },
    {
      "cell_type": "code",
      "metadata": {
        "id": "5eONwqXN5ynK",
        "colab_type": "code",
        "outputId": "5686d0cd-9d60-4329-9475-2dcaa63288d5",
        "colab": {
          "base_uri": "https://localhost:8080/",
          "height": 34
        }
      },
      "source": [
        "embedding_matrix.shape"
      ],
      "execution_count": 0,
      "outputs": [
        {
          "output_type": "execute_result",
          "data": {
            "text/plain": [
              "(10000, 300)"
            ]
          },
          "metadata": {
            "tags": []
          },
          "execution_count": 18
        }
      ]
    },
    {
      "cell_type": "markdown",
      "metadata": {
        "id": "Pw68XhcD5ynW",
        "colab_type": "text"
      },
      "source": [
        "## Create the model"
      ]
    },
    {
      "cell_type": "code",
      "metadata": {
        "id": "fL7YWojH5ynW",
        "colab_type": "code",
        "colab": {}
      },
      "source": [
        "try:\n",
        "    del model\n",
        "except:\n",
        "    print('Model not yet defined.')"
      ],
      "execution_count": 0,
      "outputs": []
    },
    {
      "cell_type": "code",
      "metadata": {
        "id": "ZmW-A_r-5yna",
        "colab_type": "code",
        "colab": {}
      },
      "source": [
        "inp = Input(shape=(MAX_SEQ_LENGTH,))\n",
        "x = Embedding(MAX_NUM_WORDS, EMBEDDING_DIM, weights=[embedding_matrix], trainable=False)(inp)\n",
        "x = Bidirectional(LSTM(100, return_sequences=True, dropout=0.25, recurrent_dropout=0.1))(x)\n",
        "x = GlobalMaxPool1D()(x)\n",
        "x = Dense(100, activation=\"relu\")(x)\n",
        "x = Dropout(0.25)(x)\n",
        "x = Dense(1, activation=\"sigmoid\")(x)\n",
        "\n",
        "model = Model(inputs=inp, outputs=x)"
      ],
      "execution_count": 0,
      "outputs": []
    },
    {
      "cell_type": "markdown",
      "metadata": {
        "id": "7GPXf3jO5ynd",
        "colab_type": "text"
      },
      "source": [
        "Compile the model."
      ]
    },
    {
      "cell_type": "code",
      "metadata": {
        "id": "fnAXpZ6dK5EI",
        "colab_type": "code",
        "colab": {}
      },
      "source": [
        "adam = Adam(learning_rate=0.001)"
      ],
      "execution_count": 0,
      "outputs": []
    },
    {
      "cell_type": "code",
      "metadata": {
        "id": "h2K_hpXO5ynh",
        "colab_type": "code",
        "colab": {}
      },
      "source": [
        "model.compile(loss='binary_crossentropy', optimizer=adam, metrics=['accuracy'])"
      ],
      "execution_count": 0,
      "outputs": []
    },
    {
      "cell_type": "code",
      "metadata": {
        "id": "bJ5E8Z155ynl",
        "colab_type": "code",
        "outputId": "d5db365f-a4b3-4214-9bbf-3ab121effa08",
        "colab": {
          "base_uri": "https://localhost:8080/",
          "height": 357
        }
      },
      "source": [
        "model.summary()"
      ],
      "execution_count": 0,
      "outputs": [
        {
          "output_type": "stream",
          "text": [
            "Model: \"model_5\"\n",
            "_________________________________________________________________\n",
            "Layer (type)                 Output Shape              Param #   \n",
            "=================================================================\n",
            "input_6 (InputLayer)         (None, 140)               0         \n",
            "_________________________________________________________________\n",
            "embedding_6 (Embedding)      (None, 140, 300)          3000000   \n",
            "_________________________________________________________________\n",
            "bidirectional_5 (Bidirection (None, 140, 200)          320800    \n",
            "_________________________________________________________________\n",
            "bidirectional_6 (Bidirection (None, 100)               100400    \n",
            "_________________________________________________________________\n",
            "dense_9 (Dense)              (None, 100)               10100     \n",
            "_________________________________________________________________\n",
            "dense_10 (Dense)             (None, 1)                 101       \n",
            "=================================================================\n",
            "Total params: 3,431,401\n",
            "Trainable params: 431,401\n",
            "Non-trainable params: 3,000,000\n",
            "_________________________________________________________________\n"
          ],
          "name": "stdout"
        }
      ]
    },
    {
      "cell_type": "markdown",
      "metadata": {
        "id": "OissbNrU5ynr",
        "colab_type": "text"
      },
      "source": [
        "## Split the data into train, dev and test\n",
        "We will use 96% of data for training, 2% for validation and 2% for testing."
      ]
    },
    {
      "cell_type": "code",
      "metadata": {
        "id": "KQNlGxgW5yns",
        "colab_type": "code",
        "colab": {}
      },
      "source": [
        "random_numbers = np.random.rand(len(df))\n",
        "\n",
        "IDX_train = (random_numbers <= 0.96)\n",
        "IDX_dev = (random_numbers > 0.96) & (random_numbers <= 0.98)\n",
        "IDX_test = (random_numbers > 0.98)"
      ],
      "execution_count": 0,
      "outputs": []
    },
    {
      "cell_type": "code",
      "metadata": {
        "id": "4a5Q03RT5ynv",
        "colab_type": "code",
        "colab": {}
      },
      "source": [
        "X_train = padded_seqs[IDX_train, :]\n",
        "y_train = df.loc[IDX_train, 'target'].values"
      ],
      "execution_count": 0,
      "outputs": []
    },
    {
      "cell_type": "code",
      "metadata": {
        "id": "CWnuGCfY5yny",
        "colab_type": "code",
        "colab": {}
      },
      "source": [
        "X_dev = padded_seqs[IDX_dev, :]\n",
        "y_dev = df.loc[IDX_dev, 'target'].values"
      ],
      "execution_count": 0,
      "outputs": []
    },
    {
      "cell_type": "code",
      "metadata": {
        "id": "m6qLHLN-5yn2",
        "colab_type": "code",
        "colab": {}
      },
      "source": [
        "X_test = padded_seqs[IDX_test, :]\n",
        "y_test = df.loc[IDX_test, 'target'].values"
      ],
      "execution_count": 0,
      "outputs": []
    },
    {
      "cell_type": "markdown",
      "metadata": {
        "id": "UjKOUbN15yn4",
        "colab_type": "text"
      },
      "source": [
        "## Perform the training"
      ]
    },
    {
      "cell_type": "code",
      "metadata": {
        "id": "tOERoh8d5yn5",
        "colab_type": "code",
        "outputId": "34ce9080-383f-4ef1-8b67-05f8cdffb0bf",
        "colab": {
          "base_uri": "https://localhost:8080/",
          "height": 374
        }
      },
      "source": [
        "history = model.fit(X_train, y_train, validation_data=(X_dev, y_dev), batch_size=2048, epochs=10)"
      ],
      "execution_count": 0,
      "outputs": [
        {
          "output_type": "stream",
          "text": [
            "Train on 1532128 samples, validate on 32082 samples\n",
            "Epoch 1/10\n",
            "1532128/1532128 [==============================] - 796s 520us/step - loss: 0.4651 - accuracy: 0.7776 - val_loss: 0.4391 - val_accuracy: 0.7934\n",
            "Epoch 2/10\n",
            "1532128/1532128 [==============================] - 767s 501us/step - loss: 0.4162 - accuracy: 0.8079 - val_loss: 0.4090 - val_accuracy: 0.8114\n",
            "Epoch 3/10\n",
            "1532128/1532128 [==============================] - 766s 500us/step - loss: 0.4000 - accuracy: 0.8171 - val_loss: 0.4018 - val_accuracy: 0.8159\n",
            "Epoch 4/10\n",
            "1532128/1532128 [==============================] - 785s 513us/step - loss: 0.3897 - accuracy: 0.8230 - val_loss: 0.3946 - val_accuracy: 0.8177\n",
            "Epoch 5/10\n",
            "1532128/1532128 [==============================] - 780s 509us/step - loss: 0.3819 - accuracy: 0.8271 - val_loss: 0.3878 - val_accuracy: 0.8230\n",
            "Epoch 6/10\n",
            "1532128/1532128 [==============================] - 751s 490us/step - loss: 0.3760 - accuracy: 0.8305 - val_loss: 0.3855 - val_accuracy: 0.8249\n",
            "Epoch 7/10\n",
            "1532128/1532128 [==============================] - 748s 488us/step - loss: 0.3699 - accuracy: 0.8338 - val_loss: 0.3791 - val_accuracy: 0.8278\n",
            "Epoch 8/10\n",
            "1532128/1532128 [==============================] - 758s 495us/step - loss: 0.3649 - accuracy: 0.8363 - val_loss: 0.3803 - val_accuracy: 0.8266\n",
            "Epoch 9/10\n",
            "1532128/1532128 [==============================] - 777s 507us/step - loss: 0.3593 - accuracy: 0.8391 - val_loss: 0.3805 - val_accuracy: 0.8279\n",
            "Epoch 10/10\n",
            "1532128/1532128 [==============================] - 788s 514us/step - loss: 0.3548 - accuracy: 0.8417 - val_loss: 0.3769 - val_accuracy: 0.8294\n"
          ],
          "name": "stdout"
        }
      ]
    },
    {
      "cell_type": "code",
      "metadata": {
        "id": "Pyka196R5yn7",
        "colab_type": "code",
        "outputId": "d18bfc12-5af8-45b1-fa81-a45c6cca77ba",
        "colab": {
          "base_uri": "https://localhost:8080/",
          "height": 51
        }
      },
      "source": [
        "model.evaluate(X_test, y_test)"
      ],
      "execution_count": 0,
      "outputs": [
        {
          "output_type": "stream",
          "text": [
            "31799/31799 [==============================] - 77s 2ms/step\n"
          ],
          "name": "stdout"
        },
        {
          "output_type": "execute_result",
          "data": {
            "text/plain": [
              "[0.38169236949653856, 0.8288625478744507]"
            ]
          },
          "metadata": {
            "tags": []
          },
          "execution_count": 65
        }
      ]
    },
    {
      "cell_type": "code",
      "metadata": {
        "id": "aLNDtTfJlTDs",
        "colab_type": "code",
        "colab": {}
      },
      "source": [
        "model.save(os.path.join(MODEL_DIR, MODEL_FILE))"
      ],
      "execution_count": 0,
      "outputs": []
    },
    {
      "cell_type": "code",
      "metadata": {
        "id": "W10dYcA6ljsC",
        "colab_type": "code",
        "colab": {}
      },
      "source": [
        ""
      ],
      "execution_count": 0,
      "outputs": []
    }
  ]
}